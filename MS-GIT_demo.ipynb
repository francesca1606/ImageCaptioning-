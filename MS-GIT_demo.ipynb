{
 "cells": [
  {
   "cell_type": "markdown",
   "metadata": {},
   "source": [
    "# Image Captioning"
   ]
  },
  {
   "cell_type": "code",
   "execution_count": 10,
   "metadata": {},
   "outputs": [
    {
     "name": "stdout",
     "output_type": "stream",
     "text": [
      "a rendering of the new tram.\n"
     ]
    }
   ],
   "source": [
    "from transformers import AutoProcessor, AutoModelForCausalLM\n",
    "import requests\n",
    "from PIL import Image\n",
    "\n",
    "processor = AutoProcessor.from_pretrained(\"microsoft/git-base-coco\")\n",
    "model = AutoModelForCausalLM.from_pretrained(\"microsoft/git-base-coco\")\n",
    "\n",
    "url = \"https://goteborgssparvagar.se/wp-content/uploads/2023/07/171024exterior01-webb-1024x723.jpeg\"\n",
    "image = Image.open(requests.get(url, stream=True).raw)\n",
    "\n",
    "pixel_values = processor(images=image, return_tensors=\"pt\").pixel_values\n",
    "\n",
    "generated_ids = model.generate(pixel_values=pixel_values, max_length=50)\n",
    "generated_caption = processor.batch_decode(generated_ids, skip_special_tokens=True)[0]\n",
    "print(generated_caption)"
   ]
  },
  {
   "cell_type": "code",
   "execution_count": 5,
   "metadata": {},
   "outputs": [
    {
     "name": "stdout",
     "output_type": "stream",
     "text": [
      "GitForCausalLM(\n",
      "  (git): GitModel(\n",
      "    (embeddings): GitEmbeddings(\n",
      "      (word_embeddings): Embedding(30522, 768, padding_idx=0)\n",
      "      (position_embeddings): Embedding(1024, 768)\n",
      "      (LayerNorm): LayerNorm((768,), eps=1e-12, elementwise_affine=True)\n",
      "      (dropout): Dropout(p=0.1, inplace=False)\n",
      "    )\n",
      "    (image_encoder): GitVisionModel(\n",
      "      (vision_model): GitVisionTransformer(\n",
      "        (embeddings): GitVisionEmbeddings(\n",
      "          (patch_embedding): Conv2d(3, 768, kernel_size=(16, 16), stride=(16, 16), bias=False)\n",
      "          (position_embedding): Embedding(197, 768)\n",
      "        )\n",
      "        (pre_layrnorm): LayerNorm((768,), eps=1e-05, elementwise_affine=True)\n",
      "        (encoder): GitVisionEncoder(\n",
      "          (layers): ModuleList(\n",
      "            (0-11): 12 x GitVisionEncoderLayer(\n",
      "              (self_attn): GitVisionAttention(\n",
      "                (k_proj): Linear(in_features=768, out_features=768, bias=True)\n",
      "                (v_proj): Linear(in_features=768, out_features=768, bias=True)\n",
      "                (q_proj): Linear(in_features=768, out_features=768, bias=True)\n",
      "                (out_proj): Linear(in_features=768, out_features=768, bias=True)\n",
      "              )\n",
      "              (layer_norm1): LayerNorm((768,), eps=1e-05, elementwise_affine=True)\n",
      "              (mlp): GitVisionMLP(\n",
      "                (activation_fn): QuickGELUActivation()\n",
      "                (fc1): Linear(in_features=768, out_features=3072, bias=True)\n",
      "                (fc2): Linear(in_features=3072, out_features=768, bias=True)\n",
      "              )\n",
      "              (layer_norm2): LayerNorm((768,), eps=1e-05, elementwise_affine=True)\n",
      "            )\n",
      "          )\n",
      "        )\n",
      "        (post_layernorm): LayerNorm((768,), eps=1e-05, elementwise_affine=True)\n",
      "      )\n",
      "    )\n",
      "    (encoder): GitEncoder(\n",
      "      (layer): ModuleList(\n",
      "        (0-5): 6 x GitLayer(\n",
      "          (attention): GitAttention(\n",
      "            (self): GitSelfAttention(\n",
      "              (query): Linear(in_features=768, out_features=768, bias=True)\n",
      "              (key): Linear(in_features=768, out_features=768, bias=True)\n",
      "              (value): Linear(in_features=768, out_features=768, bias=True)\n",
      "              (dropout): Dropout(p=0.1, inplace=False)\n",
      "            )\n",
      "            (output): GitSelfOutput(\n",
      "              (dense): Linear(in_features=768, out_features=768, bias=True)\n",
      "              (LayerNorm): LayerNorm((768,), eps=1e-12, elementwise_affine=True)\n",
      "              (dropout): Dropout(p=0.1, inplace=False)\n",
      "            )\n",
      "          )\n",
      "          (intermediate): GitIntermediate(\n",
      "            (dense): Linear(in_features=768, out_features=3072, bias=True)\n",
      "            (intermediate_act_fn): GELUActivation()\n",
      "          )\n",
      "          (output): GitOutput(\n",
      "            (dense): Linear(in_features=3072, out_features=768, bias=True)\n",
      "            (LayerNorm): LayerNorm((768,), eps=1e-12, elementwise_affine=True)\n",
      "            (dropout): Dropout(p=0.1, inplace=False)\n",
      "          )\n",
      "        )\n",
      "      )\n",
      "    )\n",
      "    (visual_projection): GitProjection(\n",
      "      (visual_projection): Sequential(\n",
      "        (0): Linear(in_features=768, out_features=768, bias=True)\n",
      "        (1): LayerNorm((768,), eps=1e-05, elementwise_affine=True)\n",
      "      )\n",
      "    )\n",
      "  )\n",
      "  (output): Linear(in_features=768, out_features=30522, bias=True)\n",
      ")\n"
     ]
    }
   ],
   "source": []
  }
 ],
 "metadata": {
  "kernelspec": {
   "display_name": "dml",
   "language": "python",
   "name": "python3"
  },
  "language_info": {
   "codemirror_mode": {
    "name": "ipython",
    "version": 3
   },
   "file_extension": ".py",
   "mimetype": "text/x-python",
   "name": "python",
   "nbconvert_exporter": "python",
   "pygments_lexer": "ipython3",
   "version": "3.11.9"
  }
 },
 "nbformat": 4,
 "nbformat_minor": 2
}
